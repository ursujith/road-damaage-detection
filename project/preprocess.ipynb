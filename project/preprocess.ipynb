{
 "cells": [
  {
   "cell_type": "code",
   "execution_count": 25,
   "id": "47b755c4",
   "metadata": {},
   "outputs": [],
   "source": [
    "import pandas as pd\n",
    "import matplotlib.pyplot as plt\n",
    "import os\n",
    "import urllib\n",
    "import zipfile\n",
    "import xml.etree.ElementTree as ET\n",
    "import glob\n",
    "import shutil\n",
    "import random\n"
   ]
  },
  {
   "cell_type": "code",
   "execution_count": 24,
   "id": "eab201f3-ada1-4109-9218-f15c69a1127a",
   "metadata": {},
   "outputs": [],
   "source": [
    "\n",
    "\n",
    "# Define the source and destination paths\n",
    "source_folders = ['United_States','Japan','India','Norway','Czech','China_Drone','China_MotorBike']\n",
    "destination_data_folder = 'data'\n",
    "destination_label_folder = 'annotations'\n",
    "\n",
    "# Create necessary folders\n",
    "os.makedirs(destination_data_folder, exist_ok=True)\n",
    "os.makedirs(destination_label_folder, exist_ok=True)\n",
    "\n",
    "# Copy train images and annotations (xmls) to the respective folders\n",
    "for folder in source_folders:\n",
    "    train_images_path = os.path.join(folder, 'train', 'images')\n",
    "    train_annotations_path = os.path.join(folder, 'train', 'annotations', 'xmls')\n",
    "\n",
    "    # Copy train images\n",
    "    for filename in os.listdir(train_images_path):\n",
    "        shutil.copy(os.path.join(train_images_path, filename), destination_data_folder)\n",
    "\n",
    "    # Copy annotations\n",
    "    for filename in os.listdir(train_annotations_path):\n",
    "        shutil.copy(os.path.join(train_annotations_path, filename), destination_label_folder)\n"
   ]
  },
  {
   "cell_type": "code",
   "execution_count": 26,
   "id": "c51e388f-13e0-45d9-8042-2d95632932cd",
   "metadata": {},
   "outputs": [
    {
     "name": "stdout",
     "output_type": "stream",
     "text": [
      "Successfully converted xml to csv.\n"
     ]
    }
   ],
   "source": [
    "\n",
    "def xml_to_csv(path):\n",
    "    xml_list = []\n",
    "    for xml_file in glob.glob(path + '/*.xml'):\n",
    "        tree = ET.parse(xml_file)\n",
    "        root = tree.getroot()\n",
    "        for member in root.findall('object'):\n",
    "            bbx = member.find('bndbox')\n",
    "            xmin = int(float(bbx.find('xmin').text))\n",
    "            ymin = int(float(bbx.find('ymin').text))\n",
    "            xmax = int(float(bbx.find('xmax').text))\n",
    "            ymax = int(float(bbx.find('ymax').text))\n",
    "            label = member.find('name').text\n",
    "\n",
    "            value = (root.find('filename').text,\n",
    "                     int(root.find('size')[0].text),\n",
    "                     int(root.find('size')[1].text),\n",
    "                     label,\n",
    "                     xmin,\n",
    "                     ymin,\n",
    "                     xmax,\n",
    "                     ymax\n",
    "                     )\n",
    "            xml_list.append(value)\n",
    "    column_name = ['filename', 'width', 'height',\n",
    "                   'class', 'xmin', 'ymin', 'xmax', 'ymax']\n",
    "    xml_df = pd.DataFrame(xml_list, columns=column_name)\n",
    "    return xml_df\n",
    "\n",
    "\n",
    "def main():\n",
    "\n",
    "    image_path = os.path.join(os.getcwd(), 'annotations')\n",
    "    xml_df = xml_to_csv(image_path)\n",
    "    xml_df.to_csv('labels.csv', index=None)\n",
    "    print('Successfully converted xml to csv.')\n",
    "\n",
    "\n",
    "main()"
   ]
  },
  {
   "cell_type": "code",
   "execution_count": 27,
   "id": "b81e03e7-98d1-4a2d-a9a3-62e57d28659d",
   "metadata": {},
   "outputs": [
    {
     "name": "stdout",
     "output_type": "stream",
     "text": [
      "                 filename  width  height class  xmin  ymin  xmax  ymax\n",
      "0  China_Drone_000000.jpg    512     512   D10   323   213   390   245\n",
      "1  China_Drone_000001.jpg    512     512   D10    14    70   198    99\n",
      "2  China_Drone_000001.jpg    512     512   D00    95   114   120   272\n",
      "3  China_Drone_000002.jpg    512     512   D00    12   214    68   511\n",
      "4  China_Drone_000002.jpg    512     512   D00    60     1   112   212\n",
      "width\n",
      "600     23526\n",
      "640     11014\n",
      "512      8767\n",
      "720      7996\n",
      "3643     5585\n",
      "3650     4320\n",
      "3        2498\n",
      "4040     1324\n",
      "540       316\n",
      "1024      277\n",
      "1080       89\n",
      "Name: count, dtype: int64\n",
      "height\n",
      "600     25817\n",
      "640     11014\n",
      "512      8767\n",
      "720      8203\n",
      "2041     5585\n",
      "2044     4320\n",
      "2035     1324\n",
      "540       316\n",
      "1024      277\n",
      "1080       89\n",
      "Name: count, dtype: int64\n"
     ]
    }
   ],
   "source": [
    "file_path = 'labels.csv'\n",
    "\n",
    "# Read the CSV file into a DataFrame\n",
    "df = pd.read_csv(file_path)\n",
    "\n",
    "# Display the first few rows of the DataFrame\n",
    "print(df.head())\n",
    "\n",
    "print(df['width'].value_counts())\n",
    "print(df['height'].value_counts())"
   ]
  },
  {
   "cell_type": "code",
   "execution_count": 28,
   "id": "51b6777d",
   "metadata": {},
   "outputs": [
    {
     "name": "stdout",
     "output_type": "stream",
     "text": [
      "(65712, 8)\n"
     ]
    },
    {
     "data": {
      "image/png": "[encoded data removed]",
      "text/plain": [
       "<Figure size 1000x600 with 1 Axes>"
      ]
     },
     "metadata": {},
     "output_type": "display_data"
    }
   ],
   "source": [
    "\n",
    "# Calculate class distribution\n",
    "class_distribution = df['class'].value_counts()\n",
    "\n",
    "print(df.shape)\n",
    "# Plot class distribution\n",
    "plt.figure(figsize=(10, 6))\n",
    "class_distribution.plot(kind='bar')\n",
    "plt.title('Class Distribution')\n",
    "plt.xlabel('Class')\n",
    "plt.ylabel('Count')\n",
    "plt.xticks(rotation=45)\n",
    "plt.show()"
   ]
  },
  {
   "cell_type": "code",
   "execution_count": 29,
   "id": "62bbb3d0",
   "metadata": {},
   "outputs": [
    {
     "name": "stdout",
     "output_type": "stream",
     "text": [
      "(26661,)\n"
     ]
    }
   ],
   "source": [
    "uniqueFiles = df['filename'].unique()\n",
    "print(uniqueFiles.shape)"
   ]
  },
  {
   "cell_type": "code",
   "execution_count": 30,
   "id": "7b16df1e",
   "metadata": {},
   "outputs": [
    {
     "name": "stdout",
     "output_type": "stream",
     "text": [
      "(63645, 8)\n",
      "class\n",
      "D00    26016\n",
      "D10    11830\n",
      "D20    10617\n",
      "D40     6544\n",
      "D44     5057\n",
      "D50     3581\n",
      "Name: count, dtype: int64\n"
     ]
    }
   ],
   "source": [
    "# List of classes to exclude\n",
    "exclude_classes = ['D43', 'D01', 'D11','Repair','D0w0','Block crack']\n",
    "# Filter out rows with excluded classes\n",
    "new_df = df[~df['class'].isin(exclude_classes)]\n",
    "\n",
    "print(new_df.shape)\n",
    "print(new_df['class'].value_counts())"
   ]
  },
  {
   "cell_type": "code",
   "execution_count": 31,
   "id": "ebbd2273",
   "metadata": {},
   "outputs": [
    {
     "data": {
      "text/plain": [
       "'new_data/'"
      ]
     },
     "execution_count": 31,
     "metadata": {},
     "output_type": "execute_result"
    }
   ],
   "source": [
    "\n",
    "# Source folder path\n",
    "source_folder = 'data/'  # Change this to the path of your source folder\n",
    "# Destination folder path\n",
    "destination_folder = 'new_data/'  # Change this to the path of your destination folder\n",
    "# Copy the folder\n",
    "shutil.copytree(source_folder, destination_folder)\n"
   ]
  },
  {
   "cell_type": "code",
   "execution_count": 32,
   "id": "af243040",
   "metadata": {},
   "outputs": [
    {
     "name": "stdout",
     "output_type": "stream",
     "text": [
      "(65712, 8)\n"
     ]
    },
    {
     "data": {
      "image/png": "[encoded data removed]",
      "text/plain": [
       "<Figure size 1000x600 with 1 Axes>"
      ]
     },
     "metadata": {},
     "output_type": "display_data"
    }
   ],
   "source": [
    "# Calculate class distribution\n",
    "class_distribution = new_df['class'].value_counts()\n",
    "\n",
    "print(df.shape)\n",
    "# Plot class distribution\n",
    "plt.figure(figsize=(10, 6))\n",
    "class_distribution.plot(kind='bar')\n",
    "plt.title('Class Distribution')\n",
    "plt.xlabel('Class')\n",
    "plt.ylabel('Count')\n",
    "plt.xticks(rotation=45)\n",
    "plt.show()"
   ]
  },
  {
   "cell_type": "code",
   "execution_count": 33,
   "id": "a959bf4f",
   "metadata": {},
   "outputs": [
    {
     "name": "stdout",
     "output_type": "stream",
     "text": [
      "(44129, 8)\n",
      "(19000,)\n"
     ]
    }
   ],
   "source": [
    "filtered_df = new_df[(new_df['height']<=640) & (new_df['width']<=640)]\n",
    "\n",
    "print(filtered_df.shape)\n",
    "print(filtered_df['filename'].unique().shape)"
   ]
  },
  {
   "cell_type": "code",
   "execution_count": 34,
   "id": "33862af1",
   "metadata": {},
   "outputs": [
    {
     "name": "stdout",
     "output_type": "stream",
     "text": [
      "(44129, 8)\n"
     ]
    },
    {
     "data": {
      "image/png": "[encoded data removed]",
      "text/plain": [
       "<Figure size 1000x600 with 1 Axes>"
      ]
     },
     "metadata": {},
     "output_type": "display_data"
    }
   ],
   "source": [
    "# Calculate class distribution\n",
    "class_distribution = filtered_df['class'].value_counts()\n",
    "\n",
    "print(filtered_df.shape)\n",
    "# Plot class distribution\n",
    "plt.figure(figsize=(10, 6))\n",
    "class_distribution.plot(kind='bar')\n",
    "plt.title('Class Distribution')\n",
    "plt.xlabel('Class')\n",
    "plt.ylabel('Count')\n",
    "plt.xticks(rotation=45)\n",
    "plt.show()"
   ]
  },
  {
   "cell_type": "code",
   "execution_count": 35,
   "id": "b0959cd1",
   "metadata": {},
   "outputs": [],
   "source": [
    "\n",
    "\n",
    "# Directory containing the files\n",
    "directory = 'data'\n",
    "\n",
    "# List of filenames to retain\n",
    "filenames_to_retain = filtered_df['filename'].unique() # Add the filenames you want to retain\n",
    "# Iterate through files in the directory\n",
    "for filename in os.listdir(directory):\n",
    "    filepath = os.path.join(directory, filename)\n",
    "    if filename not in filenames_to_retain:\n",
    "        # Delete the file if its name is not in the list of filenames to retain\n",
    "        os.remove(filepath)\n"
   ]
  },
  {
   "cell_type": "code",
   "execution_count": 36,
   "id": "0c6a9387",
   "metadata": {},
   "outputs": [
    {
     "name": "stdout",
     "output_type": "stream",
     "text": [
      "19000\n"
     ]
    }
   ],
   "source": [
    "# Initialize a counter\n",
    "file_count = 0\n",
    "\n",
    "# Iterate through files in the directory\n",
    "for filename in os.listdir(directory):\n",
    "    # Check if the path is a file (not a directory)\n",
    "    if os.path.isfile(os.path.join(directory, filename)):\n",
    "        # Increment the counter\n",
    "        file_count += 1\n",
    "\n",
    "# Print the count of files\n",
    "print(file_count)\n"
   ]
  },
  {
   "cell_type": "code",
   "execution_count": 37,
   "id": "7b6507cf",
   "metadata": {},
   "outputs": [
    {
     "name": "stdout",
     "output_type": "stream",
     "text": [
      "['China_Drone_000000.jpg' 'China_Drone_000001.jpg'\n",
      " 'China_Drone_000002.jpg' ... 'United_States_004802.jpg'\n",
      " 'United_States_004803.jpg' 'United_States_004804.jpg']\n",
      "['China_Drone_000000.xml' 'China_Drone_000001.xml'\n",
      " 'China_Drone_000002.xml' ... 'United_States_004802.xml'\n",
      " 'United_States_004803.xml' 'United_States_004804.xml']\n"
     ]
    }
   ],
   "source": [
    "\n",
    "\n",
    "# Directory containing the files\n",
    "directory = 'annotations'\n",
    "\n",
    "print(filtered_df['filename'].unique())\n",
    "\n",
    "# List of filenames to retain\n",
    "filenames_to_retain = filtered_df['filename'].str.replace('.jpg', '.xml').unique() # Add the filenames you want to retain\n",
    "print(filenames_to_retain)\n",
    "\n",
    "# Iterate through files in the directory\n",
    "for filename in os.listdir(directory):\n",
    "    filepath = os.path.join(directory, filename)\n",
    "    if filename not in filenames_to_retain:\n",
    "        # Delete the file if its name is not in the list of filenames to retain\n",
    "        os.remove(filepath)"
   ]
  },
  {
   "cell_type": "code",
   "execution_count": 38,
   "id": "08ef6825",
   "metadata": {},
   "outputs": [
    {
     "name": "stdout",
     "output_type": "stream",
     "text": [
      "19000\n"
     ]
    }
   ],
   "source": [
    "# Initialize a counter\n",
    "file_count = 0\n",
    "\n",
    "directory = 'annotations'\n",
    "\n",
    "# Iterate through files in the directory\n",
    "for filename in os.listdir(directory):\n",
    "    # Check if the path is a file (not a directory)\n",
    "    if os.path.isfile(os.path.join(directory, filename)):\n",
    "        # Increment the counter\n",
    "        file_count += 1\n",
    "\n",
    "# Print the count of files\n",
    "print(file_count)\n"
   ]
  },
  {
   "cell_type": "code",
   "execution_count": 39,
   "id": "fb38f8ea",
   "metadata": {},
   "outputs": [
    {
     "name": "stdout",
     "output_type": "stream",
     "text": [
      "Count BB =  44129\n",
      "Conversion completed successfully.\n"
     ]
    }
   ],
   "source": [
    "# Define paths\n",
    "labels_folder_path = 'labels'\n",
    "\n",
    "# Create labels folder if it doesn't exist\n",
    "os.makedirs(labels_folder_path, exist_ok=True)\n",
    "\n",
    "# Read CSV file\n",
    "df = filtered_df\n",
    "\n",
    "# Group data by filename\n",
    "grouped = df.groupby('filename')\n",
    "\n",
    "class_label = {\n",
    "    \"D40\": 0,\n",
    "    \"D00\": 1,\n",
    "    \"D10\": 2,\n",
    "    \"D20\": 3,   \n",
    "    \"D44\": 4,\n",
    "    \"D50\": 5,\n",
    "    \n",
    "}\n",
    "count_bb = 0\n",
    "\n",
    "# Process each group\n",
    "for filename, group in grouped:\n",
    "    # Open a text file with the same name as the image\n",
    "    with open(os.path.join(labels_folder_path, filename.replace('.jpg', '.txt')), 'w') as f:\n",
    "        # Iterate over rows in the group\n",
    "\n",
    "        for index, row in group.iterrows():\n",
    "            # if filename == 'India_000088.jpg':\n",
    "            #   print(row['xmin'], row['xmax'], row['width'])\n",
    "            count_bb += 1\n",
    "            # Calculate object-class, x_center, y_center, width, and height\n",
    "            x_center = (row['xmin'] + row['xmax']) / (2 * row['width'])\n",
    "            y_center = (row['ymin'] + row['ymax']) / (2 * row['width'])\n",
    "            width = (row['xmax'] - row['xmin']) / row['width']\n",
    "            height = (row['ymax'] - row['ymin']) / row['width']\n",
    "            obj_class = class_label[(row['class'])]\n",
    "            # Write to the text file\n",
    "            f.write(f\"{obj_class} {x_center} {y_center} {width} {height}\\n\")\n",
    "print(\"Count BB = \", count_bb)\n",
    "print(\"Conversion completed successfully.\")\n"
   ]
  },
  {
   "cell_type": "code",
   "execution_count": 40,
   "id": "623da9cc",
   "metadata": {},
   "outputs": [],
   "source": [
    "\n",
    "\n",
    "# Define paths\n",
    "data_folder = \"data\"\n",
    "labels_folder = \"labels\"\n",
    "output_folder = \"dataset\"\n",
    "\n",
    "# Create output directory and subdirectories\n",
    "os.makedirs(output_folder, exist_ok=True)\n",
    "os.makedirs(os.path.join(output_folder, 'train', 'images'), exist_ok=True)\n",
    "os.makedirs(os.path.join(output_folder, 'train', 'labels'), exist_ok=True)\n",
    "os.makedirs(os.path.join(output_folder, 'test', 'images'), exist_ok=True)\n",
    "os.makedirs(os.path.join(output_folder, 'test', 'labels'), exist_ok=True)\n",
    "os.makedirs(os.path.join(output_folder, 'valid', 'images'), exist_ok=True)\n",
    "os.makedirs(os.path.join(output_folder, 'valid', 'labels'), exist_ok=True)\n",
    "\n",
    "\n",
    "# List files in data folder\n",
    "data_files = os.listdir(data_folder)\n",
    "random.shuffle(data_files)\n",
    "\n",
    "# Split data\n",
    "num_files = len(data_files)\n",
    "train_ratio = 0.85\n",
    "test_ratio = 0.075\n",
    "valid_ratio = 0.075\n",
    "\n",
    "train_split = int(train_ratio * num_files)\n",
    "test_split = int(test_ratio * num_files)\n",
    "\n",
    "train_files = data_files[:train_split]\n",
    "test_files = data_files[train_split:train_split + test_split]\n",
    "valid_files = data_files[train_split + test_split:]\n",
    "\n",
    "# Copy files to respective directories\n",
    "def copy_files(files, src_folder, dest_folder):\n",
    "    for file in files:\n",
    "        shutil.copy(os.path.join(src_folder, file), os.path.join(dest_folder, 'images', file))\n",
    "        shutil.copy(os.path.join(labels_folder, file.replace('.jpg', '.txt')), os.path.join(dest_folder, 'labels', file.replace('.jpg', '.txt')))\n",
    "\n",
    "copy_files(train_files, data_folder, os.path.join(output_folder, 'train'))\n",
    "copy_files(test_files, data_folder, os.path.join(output_folder, 'test'))\n",
    "copy_files(valid_files, data_folder, os.path.join(output_folder, 'valid'))\n"
   ]
  }
 ],
 "metadata": {
  "kernelspec": {
   "display_name": "Python 3 (ipykernel)",
   "language": "python",
   "name": "python3"
  },
  "language_info": {
   "codemirror_mode": {
    "name": "ipython",
    "version": 3
   },
   "file_extension": ".py",
   "mimetype": "text/x-python",
   "name": "python",
   "nbconvert_exporter": "python",
   "pygments_lexer": "ipython3",
   "version": "3.11.7"
  }
 },
 "nbformat": 4,
 "nbformat_minor": 5
}
